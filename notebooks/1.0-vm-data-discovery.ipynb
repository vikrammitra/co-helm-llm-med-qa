{
 "cells": [
  {
   "cell_type": "code",
   "execution_count": 97,
   "metadata": {},
   "outputs": [],
   "source": [
    "import importlib\n",
    "import pandas as pd\n",
    "import sys\n",
    "import os \n",
    "import itertools\n",
    "import warnings\n",
    "import PyPDF2\n",
    "\n",
    "# add parent path to python path so that we can import from src\n",
    "sys.path.append(os.path.abspath(os.path.join(os.getcwd(), '..')))\n",
    "importlib.reload(importlib.import_module('src.utils'))\n",
    "\n",
    "from src.config import DATA_PATH, RAW_PATH, PROCESSED_PATH, OUTPUTS_PATH\n",
    "from src.utils import read_pdf,read_all_pdfs_concatenate\n",
    "\n",
    "warnings.filterwarnings(\"ignore\") # To ignore all future warnings\n"
   ]
  },
  {
   "cell_type": "markdown",
   "metadata": {},
   "source": [
    "## reading pdf files "
   ]
  },
  {
   "cell_type": "code",
   "execution_count": 25,
   "metadata": {},
   "outputs": [],
   "source": [
    "pdf_file_path = \"../data/raw/\"\n",
    "pdf_data = read_all_pdfs_concatenate(pdf_file_path)"
   ]
  },
  {
   "cell_type": "code",
   "execution_count": 26,
   "metadata": {},
   "outputs": [
    {
     "name": "stdout",
     "output_type": "stream",
     "text": [
      "For educational purposes only   \n",
      "[45378] Colonoscopy, flexible; diagnostic  • Colorectal cancer screening, as indicated by 1 or more of the following: o Patient has average-risk or higher, as indicated by ALL of the following § Age 45 years or older § No colonoscopy in past 10 years o High risk family history, as indicated by 1 or more of the following: § Colorectal cancer diagnosed in one or more first-degree relatives of any age and ALL of the following: • Age 40 years or older • Symptomatic (eg, abdominal pain, iron deficiency anemia, rectal bleeding) § Family member with colonic adenomatous polyposis of unknown etiology o Juvenile polyposis syndrome diagnosis indicated by 1 or more of the following: § Age 12 years or older and symptomatic (eg, abdominal pain, iron deficiency anemia, rectal bleeding, telangiectasia) § Age younger than 12 years and symptomatic (eg, abdominal pain, iron deficiency anemia, rectal bleeding, telangiectasia) \n",
      "\n",
      "Co:Helm  \n",
      "MEDICAL RECORD Patient Name: James Freeman DOB: 06/16/1982 MRN: 456789123 Sex: Male  PRESENTING COMPLAINT Symptoms: Occasional rectal bleeding and abdominal discomfort for the past 6 months. Duration: 6 months.  PATIENT INFORMATION Name: James Freeman DOB: 06/16/1982 Gender: Male Address: 4521 Maple Avenue, Dallas, Texas 75219 Contact Number: (214) 555-0123 Emergency Contact: Not provided  MEDICAL HISTORY • Family History: Father had colorectal cancer at age 68. • Personal Medical History: Hypertension, managed with medication. • Medications: Lisinopril 10mg daily. • Allergies: No known drug allergies.  ALLERGIES • Allergies not reviewed (last reviewed 11/28/2022) • NKDA  Co:Helm  \n",
      "VITALS Ht: 6ft2 Wt: 165lbs BMI: 31.2 Pulse: 96bpm  PHYSICAL EXAMINATION Findings: Mild tenderness in the lower abdomen, no palpable masses.  DIAGNOSTIC TESTS AND RESULTS Blood Tests: Hemoglobin slightly low at 12.4 g/dL, rest of the complete blood count within normal limits. Normal liver function tests. Imaging Studies: None conducted.  HISTORY Appendectomy (44970): Patient underwent an appendectomy due to acute appendicitis in 2015. (Laparoscopy, surgical, appendectomy). Knee Arthroscopy (29881): Underwent left knee arthroscopy due to meniscal tear in 2018. (Arthroscopy, knee, surgical; with meniscectomy [medial OR lateral, including any meniscal shaving]).  NOTES Px underwent treatment for abdominal discomfort 1y ago. Rectal bleeding. Tx failed to yield significant improvement. Rpt 6wk ago led to noticeable improvement in symptoms.  CLINICAL IMPRESSION Possible internal hemorrhoids or polyps; colorectal cancer to be ruled out.    Co:Helm  \n",
      "PLAN 1. Colonoscopy: Scheduled for 12/15/2023. The purpose is to investigate the cause of symptoms and to screen for colorectal cancer or polyps. This code represents a standard diagnostic colonoscopy. 2. Pre-Procedure Instructions: Clear liquid diet 24 hours before the procedure. Bowel preparation with polyethylene glycol solution starting the evening before the procedure. No solid foods, milk, or orange/red colored liquids. Regular medications can be taken with small sips of water. 3. Post-Procedure Care: Patient to be observed for any signs of complications such as severe pain, fever, or excessive bleeding. Advised to rest for the remainder of the day. Normal diet can be resumed the following day unless otherwise advised. 4. Consent: The patient has been informed about the benefits, risks, and alternatives to the procedure and has given informed consent.   FOLLOW-UP Appointment scheduled for 12/22/2023 to discuss the results of the colonoscopy and next steps in management.   Requested procedure: 45378  \n",
      "\n",
      "Co:Helm  \n",
      "PATIENT MEDICAL RECORD Name: James Maddison Date of Birth: 03/15/1965 Gender: Male Address: 1234 Sunset Blvd, Los Angeles, California 90026 Contact Number: (214) 555-0123 Emergency Contact: (214) 555-0456 MEDICAL HISTORY: • Family History: Father had colorectal cancer at a significantly advanced age. • Personal Medical History: Hypertension, reportedly managed with medication. • Medications: Lisinopril 10 mg daily, and possibly other medications not clearly listed. • Allergies: No known drug allergies, based on available records. PRESENTING COMPLAINT: • Symptoms: Patient mentions occasional rectal bleeding and abdominal discomfort, with somewhat frequent occurrence and some severity. • Duration: The symptoms have been present for a few months. PHYSICAL EXAMINATION: • Findings: Examination reveals some tenderness in the lower abdomen, but the exact nature is not well described. DIAGNOSTIC TESTS AND RESULTS: • Blood Tests: Hemoglobin levels are somewhat low at 12.4 g/dL, other results are within normal limits or not clearly specified. • Imaging Studies: No recent imaging studies have been conducted or documented. PREVIOUS MEDICAL PROCEDURES: • Gallbladder Removal, Cholecystectomy (47562): Underwent a cholecystectomy several years ago. The postoperative course and its relation to current symptoms are unclear. (Laparoscopy, surgical; cholecystectomy). • Lower Back Pain Management: Received physical therapy for lower back pain and abdominal symptoms. Several weeks ago. CLINICAL IMPRESSION: Internal hemorrhoids suggested by the patient. Co:Helm  \n",
      "PLAN: 1. Colonoscopy (CPT Code 45378): Scheduled for 12/15/2023. The purpose is somewhat broadly to investigate the symptoms and to screen for colorectal cancer or polyps. 2. Pre-Procedure Instructions: General instructions for preparation have been provided to the patient. 3. Post-Procedure Care: Patient to be observed for complications. 4. Consent: The patient has been informed about the procedure.   Requested procedure: 45378  \n",
      "\n",
      "Co:Helm  \n",
      "PATIENT MEDICAL RECORD Name: Michail Antonio Date of Birth: 01/01/1975 Date of record: 12/06/2023 Gender: Male Address: 101 Hospirtal Drive, Dallas, Texas 91126 Contact Number: (545) 555-1111 Emergency Contact: (677) 234-8873 Chief Complaint: Persistent upper abdominal pain and heartburn since May 2023.  HISTORY OF PRESENT ILLNESS Mr. Doe, a 48-year-old male, reports a 6-month history of upper abdominal pain, heartburn, and occasional nausea beginning around May 2023. Symptoms worsen post-meal, especially after consuming spicy foods. He denies vomiting, weight loss, or changes in bowel habits. Over-the-counter antacids, started in June 2023, provide minimal relief. No history of gastrointestinal bleeding. PAST MEDICAL HISTORY • Hypertension diagnosed in 2015, controlled with medication. • Previous medical procedures: • Cholecystectomy on 08/15/2018 (CPT Code 47562 - Laparoscopic cholecystectomy). • Colonoscopy on 07/22/2020 (CPT Code 45378 - Colonoscopy, diagnostic). Abnormal findings identified, and further treatment pending as of 12/06/2023. • No prior surgeries. MEDICATIONS • Lisinopril 10mg daily since 2015 • Antacids as needed since June 2023 ALLERGIES • No known drug allergies SOCIAL HISTORY • Non-smoker • Occasional alcohol use • No recreational drug use Co:Helm  \n",
      "FAMILY HISTORY • Father had gastric ulcer • No family history of gastrointestinal cancers PHYSICAL EXAMINATION • General: Alert and oriented, no acute distress • Abdomen: Soft, non-tender, no palpable masses or hepatosplenomegaly • Other systems examination was unremarkable LABORATORY RESULTS • CBC, CMP within normal limits • H. pylori stool antigen test: Negative ASSESSMENT AND PLAN • Differential diagnosis includes gastroesophageal reflux disease (GERD), peptic ulcer, and other potential gastrointestinal conditions. • Esophagogastroduodenoscopy (EGD) scheduled for 12/20/2023 to further evaluate the condition of the esophagus, stomach, and duodenum. Biopsies will be obtained as necessary. • Pending results from the EGD and the planned treatment for the abnormal findings from the 07/22/2020 colonoscopy, additional information is required to finalize the diagnosis and formulate a comprehensive treatment plan. • Continue current medication (antacids) and start proton pump inhibitor (PPI) once daily for symptom management as of 12/06/2023. • Advised dietary modifications: avoid spicy foods, and adopt smaller, more frequent meals to ease gastrointestinal discomfort. • Close monitoring of symptoms is recommended. The patient is advised to report any exacerbation of symptoms or new symptoms immediately. • A follow-up appointment scheduled for 01/03/2024 to discuss the results and next steps in management, including addressing the pending treatment from the colonoscopy.   Requested procedure: 43235, 43239  \n",
      "\n",
      "\n"
     ]
    }
   ],
   "source": [
    "print(pdf_data)"
   ]
  },
  {
   "cell_type": "markdown",
   "metadata": {},
   "source": [
    "## Step 1 — Process data and build vector store"
   ]
  },
  {
   "cell_type": "code",
   "execution_count": 84,
   "metadata": {},
   "outputs": [
    {
     "name": "stderr",
     "output_type": "stream",
     "text": [
      "No sentence-transformers model found with name C:\\Users\\Administrator/.cache\\torch\\sentence_transformers\\microsoft_BiomedNLP-PubMedBERT-base-uncased-abstract-fulltext. Creating a new one with MEAN pooling.\n"
     ]
    }
   ],
   "source": [
    "from langchain.vectorstores import FAISS\n",
    "from langchain.text_splitter import RecursiveCharacterTextSplitter\n",
    "from langchain.document_loaders import PyPDFLoader, DirectoryLoader\n",
    "from langchain.embeddings import HuggingFaceEmbeddings\n",
    "\n",
    "# Load PDF file from data path\n",
    "loader = DirectoryLoader('../data/raw/',\n",
    "                         glob=\"*.pdf\",\n",
    "                         loader_cls=PyPDFLoader)\n",
    "documents = loader.load()\n",
    "\n",
    "# Split text from PDF into chunks\n",
    "text_splitter = RecursiveCharacterTextSplitter(chunk_size=500,\n",
    "                                               chunk_overlap=50)\n",
    "texts = text_splitter.split_documents(documents)\n",
    "\n",
    "# Load embeddings for BiomedNLP-PubMedBERT model\n",
    "embeddings = HuggingFaceEmbeddings(model_name='microsoft/BiomedNLP-PubMedBERT-base-uncased-abstract-fulltext',\n",
    "                                   model_kwargs={'device': 'cpu'})\n",
    "\n",
    "# Build and persist FAISS vector store\n",
    "vectorstore = FAISS.from_documents(texts, embeddings)\n",
    "vectorstore.save_local('../models/vectorstore/db_faiss')"
   ]
  },
  {
   "cell_type": "markdown",
   "metadata": {},
   "source": [
    "## Step 2 — Testing the QA model "
   ]
  },
  {
   "cell_type": "code",
   "execution_count": 65,
   "metadata": {},
   "outputs": [],
   "source": [
    "qa_prompt = \"\"\"Use the following pieces of information to answer the user's question.\n",
    "If you don't know the answer, just say that you don't know, don't try to make up an answer.\n",
    "Context: {context}\n",
    "Question: {question}\n",
    "Only return the helpful answer below and nothing else.\n",
    "\"\"\""
   ]
  },
  {
   "cell_type": "code",
   "execution_count": 1,
   "metadata": {},
   "outputs": [
    {
     "name": "stderr",
     "output_type": "stream",
     "text": [
      "c:\\ProgramData\\anaconda3\\envs\\llm-med\\lib\\site-packages\\tqdm\\auto.py:21: TqdmWarning: IProgress not found. Please update jupyter and ipywidgets. See https://ipywidgets.readthedocs.io/en/stable/user_install.html\n",
      "  from .autonotebook import tqdm as notebook_tqdm\n"
     ]
    }
   ],
   "source": [
    "from langchain.llms import HuggingFacePipeline\n",
    "import torch\n",
    "from transformers import AutoTokenizer, AutoModelForCausalLM, pipeline, AutoModelForSeq2SeqLM\n",
    "\n",
    "model_id = 'google/flan-t5-large'\n",
    "tokenizer = AutoTokenizer.from_pretrained(model_id)\n",
    "model = AutoModelForSeq2SeqLM.from_pretrained(model_id)\n",
    "\n",
    "pipe = pipeline(\n",
    "    \"text2text-generation\",\n",
    "    model=model,\n",
    "    tokenizer=tokenizer,\n",
    "    max_length=100\n",
    ")\n",
    "pipe.save_pretrained('../models/llm/')\n",
    "\n",
    "local_llm = HuggingFacePipeline(pipeline=pipe)\n"
   ]
  },
  {
   "cell_type": "code",
   "execution_count": 94,
   "metadata": {},
   "outputs": [],
   "source": [
    "from langchain.chains import RetrievalQA\n",
    "\n",
    "def build_retrieval_qa(llm, prompt, vectordb):\n",
    "    dbqa = RetrievalQA.from_chain_type(llm=llm,\n",
    "                                       chain_type='stuff',\n",
    "                                       retriever=vectordb.as_retriever(search_kwargs={'k':10}),\n",
    "                                       return_source_documents=True)\n",
    "    return dbqa\n",
    "\n",
    "vectordb = FAISS.load_local('../models/vectorstore/db_faiss', embeddings)\n",
    "dbqa = build_retrieval_qa(local_llm, qa_prompt, vectordb)"
   ]
  },
  {
   "cell_type": "code",
   "execution_count": 95,
   "metadata": {},
   "outputs": [
    {
     "name": "stderr",
     "output_type": "stream",
     "text": [
      "Token indices sequence length is longer than the specified maximum sequence length for this model (1067 > 512). Running this sequence through the model will result in indexing errors\n"
     ]
    }
   ],
   "source": [
    "response = dbqa({'query': 'Give me Patient Names in all documents'})"
   ]
  },
  {
   "cell_type": "code",
   "execution_count": 96,
   "metadata": {},
   "outputs": [
    {
     "data": {
      "text/plain": [
       "{'query': 'Give me Patient Names in all documents',\n",
       " 'result': 'James Maddison',\n",
       " 'source_documents': [Document(page_content='PATIENT MEDICAL RECORD Name: James Maddison Date of Birth: 03/15/1965 Gender: Male Address: 1234 Sunset Blvd, Los Angeles, California 90026 Contact Number: (214) 555-0123 Emergency Contact: (214) 555-0456 MEDICAL HISTORY: • Family History: Father had colorectal cancer at a significantly advanced age. • Personal Medical History: Hypertension, reportedly managed with medication. • Medications: Lisinopril 10 mg daily, and possibly other medications not clearly listed. • Allergies: No known drug', metadata={'source': '..\\\\data\\\\raw\\\\medical-record-2.pdf', 'page': 0}),\n",
       "  Document(page_content='cancer at age 68. • Personal Medical History: Hypertension, managed with medication. • Medications: Lisinopril 10mg daily. • Allergies: No known drug allergies.  ALLERGIES • Allergies not reviewed (last reviewed 11/28/2022) • NKDA', metadata={'source': '..\\\\data\\\\raw\\\\medical-record-1.pdf', 'page': 0}),\n",
       "  Document(page_content='scheduled for 01/03/2024 to discuss the results and next steps in management, including addressing the pending treatment from the colonoscopy.   Requested procedure: 43235, 43239', metadata={'source': '..\\\\data\\\\raw\\\\medical-record-3.pdf', 'page': 1}),\n",
       "  Document(page_content='for 12/22/2023 to discuss the results of the colonoscopy and next steps in management.   Requested procedure: 45378', metadata={'source': '..\\\\data\\\\raw\\\\medical-record-1.pdf', 'page': 2}),\n",
       "  Document(page_content='Co:Helm  \\nPLAN: 1. Colonoscopy (CPT Code 45378): Scheduled for 12/15/2023. The purpose is somewhat broadly to investigate the symptoms and to screen for colorectal cancer or polyps. 2. Pre-Procedure Instructions: General instructions for preparation have been provided to the patient. 3. Post-Procedure Care: Patient to be observed for complications. 4. Consent: The patient has been informed about the procedure.   Requested procedure: 45378', metadata={'source': '..\\\\data\\\\raw\\\\medical-record-2.pdf', 'page': 1}),\n",
       "  Document(page_content='MEDICAL RECORD Patient Name: James Freeman DOB: 06/16/1982 MRN: 456789123 Sex: Male  PRESENTING COMPLAINT Symptoms: Occasional rectal bleeding and abdominal discomfort for the past 6 months. Duration: 6 months.  PATIENT INFORMATION Name: James Freeman DOB: 06/16/1982 Gender: Male Address: 4521 Maple Avenue, Dallas, Texas 75219 Contact Number: (214) 555-0123 Emergency Contact: Not provided  MEDICAL HISTORY • Family History: Father had colorectal cancer at age 68. • Personal Medical History:', metadata={'source': '..\\\\data\\\\raw\\\\medical-record-1.pdf', 'page': 0}),\n",
       "  Document(page_content='surgical, appendectomy). Knee Arthroscopy (29881): Underwent left knee arthroscopy due to meniscal tear in 2018. (Arthroscopy, knee, surgical; with meniscectomy [medial OR lateral, including any meniscal shaving]).  NOTES Px underwent treatment for abdominal discomfort 1y ago. Rectal bleeding. Tx failed to yield significant improvement. Rpt 6wk ago led to noticeable improvement in symptoms.  CLINICAL IMPRESSION Possible internal hemorrhoids or polyps; colorectal cancer to be ruled out.', metadata={'source': '..\\\\data\\\\raw\\\\medical-record-1.pdf', 'page': 1}),\n",
       "  Document(page_content='comprehensive treatment plan. • Continue current medication (antacids) and start proton pump inhibitor (PPI) once daily for symptom management as of 12/06/2023. • Advised dietary modifications: avoid spicy foods, and adopt smaller, more frequent meals to ease gastrointestinal discomfort. • Close monitoring of symptoms is recommended. The patient is advised to report any exacerbation of symptoms or new symptoms immediately. • A follow-up appointment scheduled for 01/03/2024 to discuss the', metadata={'source': '..\\\\data\\\\raw\\\\medical-record-3.pdf', 'page': 1}),\n",
       "  Document(page_content='TESTS AND RESULTS: • Blood Tests: Hemoglobin levels are somewhat low at 12.4 g/dL, other results are within normal limits or not clearly specified. • Imaging Studies: No recent imaging studies have been conducted or documented. PREVIOUS MEDICAL PROCEDURES: • Gallbladder Removal, Cholecystectomy (47562): Underwent a cholecystectomy several years ago. The postoperative course and its relation to current symptoms are unclear. (Laparoscopy, surgical; cholecystectomy). • Lower Back Pain Management:', metadata={'source': '..\\\\data\\\\raw\\\\medical-record-2.pdf', 'page': 0}),\n",
       "  Document(page_content='• Colonoscopy on 07/22/2020 (CPT Code 45378 - Colonoscopy, diagnostic). Abnormal findings identified, and further treatment pending as of 12/06/2023. • No prior surgeries. MEDICATIONS • Lisinopril 10mg daily since 2015 • Antacids as needed since June 2023 ALLERGIES • No known drug allergies SOCIAL HISTORY • Non-smoker • Occasional alcohol use • No recreational drug use', metadata={'source': '..\\\\data\\\\raw\\\\medical-record-3.pdf', 'page': 0})]}"
      ]
     },
     "execution_count": 96,
     "metadata": {},
     "output_type": "execute_result"
    }
   ],
   "source": [
    "response"
   ]
  }
 ],
 "metadata": {
  "kernelspec": {
   "display_name": "llm-med",
   "language": "python",
   "name": "python3"
  },
  "language_info": {
   "codemirror_mode": {
    "name": "ipython",
    "version": 3
   },
   "file_extension": ".py",
   "mimetype": "text/x-python",
   "name": "python",
   "nbconvert_exporter": "python",
   "pygments_lexer": "ipython3",
   "version": "3.9.18"
  }
 },
 "nbformat": 4,
 "nbformat_minor": 2
}
